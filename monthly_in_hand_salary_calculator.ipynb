{
 "cells": [
  {
   "cell_type": "code",
   "execution_count": 4,
   "metadata": {},
   "outputs": [],
   "source": [
    "def calculate_monthly_in_hand_salary(annual_salary, provident_fund=0.12):\n",
    "    # Calculate components\n",
    "    basic_salary = 0.50 * annual_salary\n",
    "    hra = 0.25 * annual_salary\n",
    "    \n",
    "    # Calculate monthly components\n",
    "    monthly_basic_salary = basic_salary / 12\n",
    "    monthly_HRA =  hra/12 \n",
    "    if provident_fund<1:\n",
    "        provident_fund = annual_salary*0.12\n",
    "        monthly_provident_fund = provident_fund/12\n",
    "    else:\n",
    "        monthly_provident_fund = provident_fund/12\n",
    "\n",
    "    special_allowance = annual_salary - (basic_salary + hra + provident_fund)    \n",
    "    monthly_special_allowance = special_allowance / 12\n",
    "    monthly_inhand_salary = monthly_basic_salary + monthly_HRA + monthly_special_allowance\n",
    "\n",
    "    ## calculate annual tax based on old tax regime slabs\n",
    "    annual_tax = calculate_tax_old_regime(annual_salary)\n",
    "    monthly_tax = annual_tax / 12\n",
    "\n",
    "    ## montly in hand salary after tax\n",
    "    monthly_inhand_salary_after_tax = monthly_inhand_salary - monthly_tax\n",
    "    print(f\"Monthly Basic Salary                : {round(monthly_basic_salary)}\")\n",
    "    print(f\"Monthly HRA                         : {round(monthly_HRA)}\")\n",
    "    print(f\"Monthly Special Allowance           : {round(monthly_special_allowance)}\")\n",
    "    print(f\"Monthly Provident Fund              : {round(monthly_provident_fund)}\")\n",
    "    print(f\"Monthly Tax                         : {round(monthly_tax)}\")\n",
    "    print(f\"Monthly In-Hand Salary Before Tax   : {round(monthly_inhand_salary)}\")\n",
    "    print(f\"Monthly In-Hand Salary After Tax    : {round(monthly_inhand_salary_after_tax)}\")\n",
    "\n",
    "    return monthly_inhand_salary_after_tax"
   ]
  },
  {
   "cell_type": "code",
   "execution_count": null,
   "metadata": {},
   "outputs": [],
   "source": [
    "def calculate_tax_old_regime(annual_salary):\n",
    "    tax = 0\n",
    "    \n",
    "    # Define the tax slabs\n",
    "    if annual_salary <= 250000:\n",
    "        tax = 0\n",
    "    elif annual_salary <= 500000:\n",
    "        tax = (annual_salary - 250000) * 0.05\n",
    "    elif annual_salary <=  1000000:\n",
    "        tax = (250000 * 0.05) + (annual_salary - 500000) * 0.20\n",
    "    else:\n",
    "        tax = (250000 * 0.05) + (500000 * 0.20) + (annual_salary - 1000000) * 0.30\n",
    "    return tax"
   ]
  },
  {
   "cell_type": "code",
   "execution_count": null,
   "metadata": {},
   "outputs": [],
   "source": [
    "# Example usage\n",
    "annual_salary = 1200000  # Example annual salary\n",
    "monthly_salary = calculate_monthly_in_hand_salary(annual_salary)"
   ]
  },
  {
   "cell_type": "code",
   "execution_count": null,
   "metadata": {},
   "outputs": [],
   "source": [
    "# Example usage\n",
    "annual_salary = 5000000  # Example annual salary\n",
    "provident_fund = 43200\n",
    "monthly_salary = calculate_monthly_in_hand_salary(annual_salary,provident_fund=provident_fund)"
   ]
  },
  {
   "cell_type": "code",
   "execution_count": 1,
   "metadata": {},
   "outputs": [
    {
     "data": {
      "text/plain": [
       "43200"
      ]
     },
     "execution_count": 1,
     "metadata": {},
     "output_type": "execute_result"
    }
   ],
   "source": [
    "3600*12"
   ]
  },
  {
   "cell_type": "code",
   "execution_count": null,
   "metadata": {},
   "outputs": [],
   "source": []
  }
 ],
 "metadata": {
  "kernelspec": {
   "display_name": "Python 3",
   "language": "python",
   "name": "python3"
  },
  "language_info": {
   "codemirror_mode": {
    "name": "ipython",
    "version": 3
   },
   "file_extension": ".py",
   "mimetype": "text/x-python",
   "name": "python",
   "nbconvert_exporter": "python",
   "pygments_lexer": "ipython3",
   "version": "3.9.6"
  }
 },
 "nbformat": 4,
 "nbformat_minor": 2
}
